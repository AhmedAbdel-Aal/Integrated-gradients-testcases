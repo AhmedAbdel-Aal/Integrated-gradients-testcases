{
 "cells": [
  {
   "cell_type": "code",
   "execution_count": 1,
   "id": "c70f7566",
   "metadata": {},
   "outputs": [],
   "source": [
    "%load_ext autoreload\n",
    "%autoreload 2"
   ]
  },
  {
   "cell_type": "code",
   "execution_count": 2,
   "id": "5901dde8",
   "metadata": {},
   "outputs": [],
   "source": [
    "import torch\n",
    "import torch.nn as nn\n",
    "import torch.nn.functional as F\n",
    "from captum.attr import IntegratedGradients\n",
    "import random\n",
    "import numpy as np\n",
    "import os\n",
    "import logging"
   ]
  },
  {
   "cell_type": "code",
   "execution_count": 3,
   "id": "c01ce7a0",
   "metadata": {},
   "outputs": [],
   "source": [
    "def set_seed(seed: int = 42) -> None:\n",
    "    np.random.seed(seed)\n",
    "    random.seed(seed)\n",
    "    torch.manual_seed(seed)\n",
    "    torch.cuda.manual_seed(seed)\n",
    "    # When running on the CuDNN backend, two further options must be set\n",
    "    torch.backends.cudnn.deterministic = True\n",
    "    torch.backends.cudnn.benchmark = False\n",
    "    # Set a fixed value for the hash seed\n",
    "    os.environ[\"PYTHONHASHSEED\"] = str(seed)\n",
    "    print(f\"Random seed set as {seed}\")"
   ]
  },
  {
   "cell_type": "code",
   "execution_count": 4,
   "id": "6bde0de0",
   "metadata": {},
   "outputs": [],
   "source": [
    "# 4. Define the 2-layer neural network model\n",
    "class Net(nn.Module):\n",
    "    def __init__(self, num_in, num_hidden, num_out):\n",
    "        super().__init__()\n",
    "        set_seed(0)\n",
    "        self.num_in = num_in\n",
    "        self.num_hidden = num_hidden\n",
    "        self.num_out = num_out\n",
    "        self.lin1 = nn.Linear(num_in, num_hidden)\n",
    "        self.lin2 = nn.Linear(num_hidden, num_hidden)\n",
    "        self.lin3 = nn.Linear(num_hidden, num_out)\n",
    "        self.softmax = nn.Softmax(dim=1)\n",
    "\n",
    "    def forward(self, input):\n",
    "        lin1 = F.relu(self.lin1(input))\n",
    "        lin2 = F.relu(self.lin2(lin1))\n",
    "        lin3 = self.lin3(lin2)\n",
    "        return self.softmax(lin3)\n",
    "\n",
    "def get_model(num_in = 50, num_classes = 3):\n",
    "    model = Net(num_in, 20, num_classes)\n",
    "    return model\n",
    "\n",
    "def abs_diff(a,b):\n",
    "    return torch.sum(torch.abs(a - b)).item()"
   ]
  },
  {
   "cell_type": "code",
   "execution_count": 5,
   "id": "be90c514",
   "metadata": {},
   "outputs": [
    {
     "data": {
      "text/plain": [
       "(torch.Size([5, 20]), torch.Size([5, 20]))"
      ]
     },
     "execution_count": 5,
     "metadata": {},
     "output_type": "execute_result"
    }
   ],
   "source": [
    "dim = (5,20)\n",
    "step = 1.0/(100.0)\n",
    "inp = torch.arange(0.0, 1.0, step, requires_grad=True).unsqueeze(0)\n",
    "inp = inp.view(dim)\n",
    "baseline = torch.zeros_like(inp, requires_grad=True)\n",
    "\n",
    "inp.shape, baseline.shape"
   ]
  },
  {
   "cell_type": "code",
   "execution_count": 6,
   "id": "cd7ca42d",
   "metadata": {},
   "outputs": [],
   "source": [
    "def _compeletness_test(model, inp, baseline, attribution, target_class_index, tolerance = 1e-3):\n",
    "    f_inp = model(inp)\n",
    "    f_baseline = model(baseline)\n",
    "    \n",
    "    diff = f_inp - f_baseline\n",
    "    num_predictions = diff.shape[0]\n",
    "    # loop over all predictions \n",
    "    for prediction_id in range(num_predictions):\n",
    "        diff_sum = diff[prediction_id][target_class_index]\n",
    "        attribution_sum = attribution[prediction_id].sum()\n",
    "        \n",
    "        if (np.isclose(attribution_sum.item(), diff_sum.item(), atol=tolerance)):\n",
    "            print(f\"completness test: passed\", abs_diff(diff_sum, attribution_sum))\n",
    "        else:\n",
    "            print(f\"completness test: xxfailedxx\", abs_diff(diff_sum, attribution_sum))\n"
   ]
  },
  {
   "cell_type": "code",
   "execution_count": 7,
   "id": "a6afcdb6",
   "metadata": {},
   "outputs": [
    {
     "name": "stdout",
     "output_type": "stream",
     "text": [
      "Random seed set as 0\n",
      "test for class id 0 out of 3 classes\n",
      "<<< torch.Size([5, 20])\n",
      "completness test: passed 1.2736224113637975e-05\n",
      "completness test: passed 4.937518793686653e-05\n",
      "completness test: passed 8.622671248021373e-05\n",
      "completness test: passed 0.00014114316453869673\n",
      "completness test: passed 0.0002859088017215534\n",
      "--------------------\n",
      "test for class id 1 out of 3 classes\n",
      "<<< torch.Size([5, 20])\n",
      "completness test: passed 3.3146861255118395e-05\n",
      "completness test: passed 3.483854318950003e-05\n",
      "completness test: passed 5.550384621842014e-05\n",
      "completness test: passed 0.00014157511015491786\n",
      "completness test: passed 0.0004490187872618692\n",
      "--------------------\n",
      "test for class id 2 out of 3 classes\n",
      "<<< torch.Size([5, 20])\n",
      "completness test: passed 2.0440318786720153e-05\n",
      "completness test: passed 1.4566380163906142e-05\n",
      "completness test: passed 3.075261075933394e-05\n",
      "completness test: passed 4.0210930551953794e-07\n",
      "completness test: passed 0.00016308114762789497\n",
      "--------------------\n"
     ]
    }
   ],
   "source": [
    "\n",
    "def test_captum(num_classes = 3):\n",
    "    # captum IG method\n",
    "    model = get_model(20,3)\n",
    "    attrs = []\n",
    "    for class_idx in range(num_classes):\n",
    "        print(f'test for class id {class_idx} out of {num_classes} classes')\n",
    "        ig = IntegratedGradients(model)\n",
    "        attributions, approximation_error = ig.attribute(inp, target=class_idx,\n",
    "                                            return_convergence_delta=True)\n",
    "        print('<<<',attributions.shape)\n",
    "        attrs.append(attributions)\n",
    "        _compeletness_test(model, inp, baseline, attributions, class_idx)\n",
    "        print('-'*20)\n",
    "    return attrs\n",
    "captum_attrs = test_captum()"
   ]
  },
  {
   "cell_type": "code",
   "execution_count": 8,
   "id": "7fa31506",
   "metadata": {},
   "outputs": [
    {
     "name": "stdout",
     "output_type": "stream",
     "text": [
      "Random seed set as 0\n",
      "test for class id 0 out of 3 classes\n",
      "grads torch.Size([51, 5, 20])\n",
      ">>> torch.Size([5, 20])\n",
      "completness test: passed 1.9069993868470192e-06\n",
      "completness test: passed 5.526444874703884e-05\n",
      "completness test: passed 5.243765190243721e-05\n",
      "completness test: passed 7.273256778717041e-05\n",
      "completness test: passed 0.0002926653251051903\n",
      "--------------------\n",
      "test for class id 1 out of 3 classes\n",
      "grads torch.Size([51, 5, 20])\n",
      ">>> torch.Size([5, 20])\n",
      "completness test: passed 4.033674485981464e-06\n",
      "completness test: passed 5.8634206652641296e-05\n",
      "completness test: passed 7.259286940097809e-05\n",
      "completness test: passed 0.00028870999813079834\n",
      "completness test: passed 0.00018340349197387695\n",
      "--------------------\n",
      "test for class id 2 out of 3 classes\n",
      "grads torch.Size([51, 5, 20])\n",
      ">>> torch.Size([5, 20])\n",
      "completness test: passed 5.910871550440788e-06\n",
      "completness test: passed 3.398861736059189e-06\n",
      "completness test: passed 2.0128674805164337e-05\n",
      "completness test: passed 0.00021600071340799332\n",
      "completness test: passed 0.0001092962920665741\n",
      "--------------------\n"
     ]
    }
   ],
   "source": [
    "from integrated_gradients_paper import integrated_gradients, get_gradients_func\n",
    "\n",
    "\n",
    "def test_paper(num_classes = 3):\n",
    "    # captum IG method\n",
    "    model = get_model(20,3)\n",
    "    attrs = []\n",
    "    for class_idx in range(num_classes):\n",
    "        print(f'test for class id {class_idx} out of {num_classes} classes')\n",
    "        # applying integrated gradients on the SoftmaxModel and input data point\n",
    "        ig_paper = integrated_gradients(\n",
    "            inp, \n",
    "            class_idx,\n",
    "            get_gradients_func,\n",
    "            baseline,\n",
    "            model,\n",
    "            steps=50)\n",
    "        print('>>>',ig_paper.shape)\n",
    "        attrs.append(ig_paper)\n",
    "        _compeletness_test(model, inp, baseline, ig_paper, class_idx)\n",
    "        print('-'*20)\n",
    "    return attrs  \n",
    "paper_attrs = test_paper()"
   ]
  },
  {
   "cell_type": "code",
   "execution_count": 14,
   "id": "5c5b0af8",
   "metadata": {},
   "outputs": [
    {
     "name": "stdout",
     "output_type": "stream",
     "text": [
      "torch.Size([5, 20])\n",
      "Random seed set as 0\n",
      "test for class id 0 out of 3 classes\n",
      "> torch.Size([15, 20, 20])\n",
      "completness test: xxfailedxx 0.005629558581858873\n",
      "completness test: xxfailedxx 0.011026146821677685\n",
      "completness test: xxfailedxx 0.002407208550721407\n",
      "completness test: xxfailedxx 0.003915990702807903\n",
      "completness test: xxfailedxx 0.03486831486225128\n",
      "--------------------\n",
      "test for class id 1 out of 3 classes\n",
      "> torch.Size([15, 20, 20])\n",
      "completness test: xxfailedxx 0.005276530981063843\n",
      "completness test: xxfailedxx 0.010742351412773132\n",
      "completness test: xxfailedxx 0.006659789942204952\n",
      "completness test: xxfailedxx 0.027215586975216866\n",
      "completness test: xxfailedxx 0.0380849689245224\n",
      "--------------------\n",
      "test for class id 2 out of 3 classes\n",
      "> torch.Size([15, 20, 20])\n",
      "completness test: xxfailedxx 0.010305995121598244\n",
      "completness test: xxfailedxx 0.005571513902395964\n",
      "completness test: xxfailedxx 0.01960938610136509\n",
      "completness test: xxfailedxx 0.008095739409327507\n",
      "completness test: xxfailedxx 0.006762850563973188\n",
      "--------------------\n"
     ]
    }
   ],
   "source": [
    "from integrated_gradients_helmholtz import run_integrated_jacobian_scanvi\n",
    "\n",
    "# Helmholtz method\n",
    "dim = (5,20)\n",
    "step = 1.0/(100.0)\n",
    "inp = torch.arange(0.0, 1.0, step).unsqueeze(0)\n",
    "inp = inp.view(dim)\n",
    "baseline = torch.zeros_like(inp)\n",
    "\n",
    "batches = []\n",
    "for i in range(5):\n",
    "    batches.append({\"X\":inp[i].unsqueeze(0), \"batch\":i})\n",
    "print(inp.shape)\n",
    "def test_helmholtz(num_classes = 3):\n",
    "    # captum IG method\n",
    "    model = get_model(20,3)\n",
    "    for class_idx in range(num_classes):\n",
    "        print(f'test for class id {class_idx} out of {num_classes} classes')\n",
    "        ig_helmholtz = run_integrated_jacobian_scanvi(model, batches, n_steps=50)\n",
    "        print('>',ig_helmholtz.shape)\n",
    "        _compeletness_test(model, inp, baseline, ig_helmholtz[..., class_idx], class_idx)\n",
    "        print('-'*20)\n",
    "test_helmholtz()"
   ]
  },
  {
   "cell_type": "code",
   "execution_count": null,
   "id": "b2161624",
   "metadata": {},
   "outputs": [],
   "source": []
  }
 ],
 "metadata": {
  "kernelspec": {
   "display_name": "ap",
   "language": "python",
   "name": "ap"
  },
  "language_info": {
   "codemirror_mode": {
    "name": "ipython",
    "version": 3
   },
   "file_extension": ".py",
   "mimetype": "text/x-python",
   "name": "python",
   "nbconvert_exporter": "python",
   "pygments_lexer": "ipython3",
   "version": "3.9.15"
  }
 },
 "nbformat": 4,
 "nbformat_minor": 5
}
